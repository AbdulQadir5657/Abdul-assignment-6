{
 "cells": [
  {
   "cell_type": "code",
   "execution_count": 1,
   "id": "3fc1640f",
   "metadata": {},
   "outputs": [
    {
     "name": "stdout",
     "output_type": "stream",
     "text": [
      "['False', 'None', 'True', 'and', 'as', 'assert', 'async', 'await', 'break', 'class', 'continue', 'def', 'del', 'elif', 'else', 'except', 'finally', 'for', 'from', 'global', 'if', 'import', 'in', 'is', 'lambda', 'nonlocal', 'not', 'or', 'pass', 'raise', 'return', 'try', 'while', 'with', 'yield']\n"
     ]
    }
   ],
   "source": [
    "# Questions 1\n",
    "#1. What are keywords in python? Using the keyword library, print all the python keywords.\n",
    "\n",
    "import keyword\n",
    "\n",
    "print(keyword.kwlist)"
   ]
  },
  {
   "cell_type": "code",
   "execution_count": null,
   "id": "a66236bc",
   "metadata": {},
   "outputs": [],
   "source": [
    "# Question 2\n",
    "2.What are the rules to create variables in python?\n",
    "\n",
    " Here are the rules for creating variables in Python:\n",
    "\n",
    "> A variable name must start with a letter or the underscore character.\n",
    "> A variable name cannot start with a number.\n",
    "> A variable name can only contain alpha-numeric characters and underscores (A-z, 0-9, and _).\n",
    "> Variable names are case-sensitive (age, Age and AGE are three different variables)."
   ]
  },
  {
   "cell_type": "code",
   "execution_count": null,
   "id": "b712ea3c",
   "metadata": {},
   "outputs": [],
   "source": [
    "# Question 3\n",
    "3. What are the standards and conventions followed for the nomenclature of variables in\n",
    "   python to improve code readability and maintainability?\n",
    "\n",
    "    Python naming conventions are a set of guidelines established in PEP8, Python’s official \n",
    "    style guide.\n",
    "    These guidelines set the standard for how we name variables, functions, classes, modules,\n",
    "    and other identifiers. Function names and variable names should be lowercase, with words\n",
    "    separated by underscores as necessary to improve readability. mixedCase is allowed only in\n",
    "    contexts where that’s already the prevailing style, to retain backwards compatibility.\n",
    "\n",
    "    Here are some best practices to follow when naming your variables and functions:\n",
    "\n",
    "> Use descriptive names that convey the purpose of the variable or function.\n",
    "> Avoid using single-character names except for counters or iterators.\n",
    "> Use underscores to separate words in variable and function names.\n",
    "> Use camel case for class names.\n",
    "> Avoid using reserved words as variable or function names.\n",
    "> Use all caps for constants."
   ]
  },
  {
   "cell_type": "code",
   "execution_count": null,
   "id": "affd17f6",
   "metadata": {},
   "outputs": [],
   "source": [
    "# Question 4\n",
    "4. What will happen if a keyword is used as a variable name?\n",
    "\n",
    "   If you use a keyword as a variable name in Python, it will result in a syntax error.\n",
    "    Keywords are reserved words that have special meanings in Python and are used to define\n",
    "    the syntax and structure of the language. However, some built-in types are allowed to be\n",
    "    used as variables. "
   ]
  },
  {
   "cell_type": "code",
   "execution_count": null,
   "id": "a8a7d6e9",
   "metadata": {},
   "outputs": [],
   "source": [
    "# Question 5\n",
    "5. For what purpose def keyword is used?\n",
    "\n",
    "   The def keyword is used to define a function in Python. It is placed before the function\n",
    "    name and indicates the start of a function. Functions are objects in which we organize our code."
   ]
  },
  {
   "cell_type": "code",
   "execution_count": null,
   "id": "7ba6854f",
   "metadata": {},
   "outputs": [],
   "source": [
    "# Question 6\n",
    "6. What is the operation of this special character ‘\\’?\n",
    "   \n",
    "    The special character ‘\\’ is called the escape character in Python. It is used to\n",
    "    insert characters that are illegal in a string1. For example, if you want to include a\n",
    "    single quote inside a string that is enclosed in single quotes, you can use the escape \n",
    "    character before the single quote like this: \\'."
   ]
  },
  {
   "cell_type": "code",
   "execution_count": null,
   "id": "041449ea",
   "metadata": {},
   "outputs": [],
   "source": [
    "# Question 7\n",
    "7. Give an example of the following conditions:\n",
    "(i) Homogeneous list\n",
    "(ii) Heterogeneous set\n",
    "(iii) Homogeneous tuple\n",
    "\n",
    "(i) Homogeneous list: A list that contains elements of the same data type. For example, a list\n",
    "    of integers [1, 2, 3, 4] is a homogeneous list.\n",
    "\n",
    "(ii) Heterogeneous set: A set that contains elements of different data types. For example, a set \n",
    "    that contains an integer and a string {1, 'hello'} is a heterogeneous set.\n",
    "\n",
    "(iii) Homogeneous tuple: A tuple that contains elements of the same data type. For example, a tuple\n",
    "    of strings ('apple', 'banana', 'cherry') is a homogeneous tuple."
   ]
  },
  {
   "cell_type": "code",
   "execution_count": null,
   "id": "17351815",
   "metadata": {},
   "outputs": [],
   "source": [
    "# Question 8\n",
    "8. Explain the mutable and immutable data types with proper explanation & examples.\n",
    "\n",
    "   An immutable data type is one whose value cannot be changed once it is created. Examples of\n",
    "    immutable data types include integers, floating-point numbers, complex numbers, strings, and\n",
    "    tuples. For example, if you have a string 'hello', you cannot change the value of any of its\n",
    "    characters.\n",
    "\n",
    "    A mutable data type is one whose value can be changed after it is created. Examples of\n",
    "    mutable data types include lists, sets, and dictionaries. For example, if you have a\n",
    "    list [1, 2, 3], you can change the value of any of its elements.\n",
    "\n",
    "\n",
    "Here are some examples:\n",
    "\n",
    "Immutable data types:\n",
    "\n",
    "Integer: x = 5\n",
    "Float: x = 3.14\n",
    "String: x = 'hello'\n",
    "Tuple: x = (1, 2, 3)\n",
    "    \n",
    "Mutable data types:\n",
    "\n",
    "List: x = [1, 2, 3]\n",
    "Set: x = {1, 2, 3}\n",
    "Dictionary: x = {'name': 'John', 'age': 25}\n"
   ]
  },
  {
   "cell_type": "code",
   "execution_count": 2,
   "id": "8be53931",
   "metadata": {},
   "outputs": [
    {
     "name": "stdout",
     "output_type": "stream",
     "text": [
      "*\n",
      "***\n",
      "*****\n",
      "*******\n",
      "*********\n"
     ]
    }
   ],
   "source": [
    "# Question 9\n",
    "#9. Write a code to create the given structure using only for loop.\n",
    "    *\n",
    "    ***\n",
    "    *****\n",
    "    *******\n",
    "    *********\n",
    "    \n",
    "for i in range(1, 6):\n",
    "    print('*' * (2*i - 1))\n"
   ]
  },
  {
   "cell_type": "code",
   "execution_count": 4,
   "id": "b5797da8",
   "metadata": {},
   "outputs": [
    {
     "name": "stdout",
     "output_type": "stream",
     "text": [
      "||||||||\n",
      "||||||\n",
      "||||\n",
      "||\n"
     ]
    }
   ],
   "source": [
    "# Question 10\n",
    "#10.Write a code to create the given structure using while loop.\n",
    "#    |||||||||\n",
    " #   |||||||\n",
    "  #  |||||\n",
    "   # |||\n",
    "    #|\n",
    "i = 8\n",
    "while i >= 1:\n",
    "    print('|' * i)\n",
    "    i -= 2\n"
   ]
  },
  {
   "cell_type": "code",
   "execution_count": null,
   "id": "0a335173",
   "metadata": {},
   "outputs": [],
   "source": []
  }
 ],
 "metadata": {
  "kernelspec": {
   "display_name": "Python 3 (ipykernel)",
   "language": "python",
   "name": "python3"
  },
  "language_info": {
   "codemirror_mode": {
    "name": "ipython",
    "version": 3
   },
   "file_extension": ".py",
   "mimetype": "text/x-python",
   "name": "python",
   "nbconvert_exporter": "python",
   "pygments_lexer": "ipython3",
   "version": "3.10.9"
  }
 },
 "nbformat": 4,
 "nbformat_minor": 5
}
